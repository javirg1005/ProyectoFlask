{
  "nbformat": 4,
  "nbformat_minor": 0,
  "metadata": {
    "colab": {
      "name": "BigData_Tarjetas.ipynb",
      "provenance": [],
      "collapsed_sections": []
    },
    "kernelspec": {
      "name": "python3",
      "display_name": "Python 3"
    },
    "language_info": {
      "name": "python"
    }
  },
  "cells": [
    {
      "cell_type": "code",
      "metadata": {
        "id": "EJFzmuai7MMP"
      },
      "source": [
        "import pandas as pd\n",
        "csv_cards = pd.read_csv(\"cards.csv\", sep = \"|\")\n",
        "csv_weather = pd.read_csv(\"weather.csv\", sep = \";\")"
      ],
      "execution_count": 2,
      "outputs": []
    },
    {
      "cell_type": "code",
      "metadata": {
        "colab": {
          "base_uri": "https://localhost:8080/",
          "height": 206
        },
        "id": "i-H2PAg38wMR",
        "outputId": "ede76277-2566-4842-9721-c9c6fa812651"
      },
      "source": [
        "csv_cards.head(5)"
      ],
      "execution_count": 3,
      "outputs": [
        {
          "output_type": "execute_result",
          "data": {
            "text/html": [
              "<div>\n",
              "<style scoped>\n",
              "    .dataframe tbody tr th:only-of-type {\n",
              "        vertical-align: middle;\n",
              "    }\n",
              "\n",
              "    .dataframe tbody tr th {\n",
              "        vertical-align: top;\n",
              "    }\n",
              "\n",
              "    .dataframe thead th {\n",
              "        text-align: right;\n",
              "    }\n",
              "</style>\n",
              "<table border=\"1\" class=\"dataframe\">\n",
              "  <thead>\n",
              "    <tr style=\"text-align: right;\">\n",
              "      <th></th>\n",
              "      <th>CP_CLIENTE</th>\n",
              "      <th>CP_COMERCIO</th>\n",
              "      <th>SECTOR</th>\n",
              "      <th>DIA</th>\n",
              "      <th>FRANJA_HORARIA</th>\n",
              "      <th>IMPORTE</th>\n",
              "      <th>NUM_OP</th>\n",
              "    </tr>\n",
              "  </thead>\n",
              "  <tbody>\n",
              "    <tr>\n",
              "      <th>0</th>\n",
              "      <td>4007</td>\n",
              "      <td>4006</td>\n",
              "      <td>ALIMENTACION</td>\n",
              "      <td>2015-09-05</td>\n",
              "      <td>08-10</td>\n",
              "      <td>297.05</td>\n",
              "      <td>10.0</td>\n",
              "    </tr>\n",
              "    <tr>\n",
              "      <th>1</th>\n",
              "      <td>4007</td>\n",
              "      <td>4006</td>\n",
              "      <td>ALIMENTACION</td>\n",
              "      <td>2015-04-20</td>\n",
              "      <td>14-16</td>\n",
              "      <td>494.23</td>\n",
              "      <td>17.0</td>\n",
              "    </tr>\n",
              "    <tr>\n",
              "      <th>2</th>\n",
              "      <td>4007</td>\n",
              "      <td>4006</td>\n",
              "      <td>ALIMENTACION</td>\n",
              "      <td>2015-06-04</td>\n",
              "      <td>10-12</td>\n",
              "      <td>1694.15</td>\n",
              "      <td>57.0</td>\n",
              "    </tr>\n",
              "    <tr>\n",
              "      <th>3</th>\n",
              "      <td>4002</td>\n",
              "      <td>4009</td>\n",
              "      <td>ALIMENTACION</td>\n",
              "      <td>2015-12-05</td>\n",
              "      <td>20-22</td>\n",
              "      <td>79.71</td>\n",
              "      <td>2.0</td>\n",
              "    </tr>\n",
              "    <tr>\n",
              "      <th>4</th>\n",
              "      <td>4002</td>\n",
              "      <td>4007</td>\n",
              "      <td>ALIMENTACION</td>\n",
              "      <td>2015-03-07</td>\n",
              "      <td>20-22</td>\n",
              "      <td>181.28</td>\n",
              "      <td>3.0</td>\n",
              "    </tr>\n",
              "  </tbody>\n",
              "</table>\n",
              "</div>"
            ],
            "text/plain": [
              "   CP_CLIENTE  CP_COMERCIO        SECTOR  ... FRANJA_HORARIA  IMPORTE  NUM_OP\n",
              "0        4007         4006  ALIMENTACION  ...          08-10   297.05    10.0\n",
              "1        4007         4006  ALIMENTACION  ...          14-16   494.23    17.0\n",
              "2        4007         4006  ALIMENTACION  ...          10-12  1694.15    57.0\n",
              "3        4002         4009  ALIMENTACION  ...          20-22    79.71     2.0\n",
              "4        4002         4007  ALIMENTACION  ...          20-22   181.28     3.0\n",
              "\n",
              "[5 rows x 7 columns]"
            ]
          },
          "metadata": {},
          "execution_count": 3
        }
      ]
    },
    {
      "cell_type": "code",
      "metadata": {
        "colab": {
          "base_uri": "https://localhost:8080/",
          "height": 206
        },
        "id": "y2xLP8NH8-k8",
        "outputId": "f2b39797-378a-4750-9916-83a83e1a61b0"
      },
      "source": [
        "csv_weather.head(5)"
      ],
      "execution_count": 4,
      "outputs": [
        {
          "output_type": "execute_result",
          "data": {
            "text/html": [
              "<div>\n",
              "<style scoped>\n",
              "    .dataframe tbody tr th:only-of-type {\n",
              "        vertical-align: middle;\n",
              "    }\n",
              "\n",
              "    .dataframe tbody tr th {\n",
              "        vertical-align: top;\n",
              "    }\n",
              "\n",
              "    .dataframe thead th {\n",
              "        text-align: right;\n",
              "    }\n",
              "</style>\n",
              "<table border=\"1\" class=\"dataframe\">\n",
              "  <thead>\n",
              "    <tr style=\"text-align: right;\">\n",
              "      <th></th>\n",
              "      <th>FECHA</th>\n",
              "      <th>DIA</th>\n",
              "      <th>TMax</th>\n",
              "      <th>HTMax</th>\n",
              "      <th>TMin</th>\n",
              "      <th>HTMin</th>\n",
              "      <th>TMed</th>\n",
              "      <th>HumMax</th>\n",
              "      <th>HumMin</th>\n",
              "      <th>HumMed</th>\n",
              "      <th>VelViento</th>\n",
              "      <th>DirViento</th>\n",
              "      <th>Rad</th>\n",
              "      <th>Precip</th>\n",
              "      <th>ETo</th>\n",
              "    </tr>\n",
              "  </thead>\n",
              "  <tbody>\n",
              "    <tr>\n",
              "      <th>0</th>\n",
              "      <td>2015-12-30</td>\n",
              "      <td>365</td>\n",
              "      <td>19.2</td>\n",
              "      <td>12:02</td>\n",
              "      <td>8.6</td>\n",
              "      <td>4:06</td>\n",
              "      <td>13.9</td>\n",
              "      <td>98.8</td>\n",
              "      <td>49.3</td>\n",
              "      <td>71.4</td>\n",
              "      <td>0.6</td>\n",
              "      <td>337.2</td>\n",
              "      <td>9.9</td>\n",
              "      <td>0.0</td>\n",
              "      <td>1.04</td>\n",
              "    </tr>\n",
              "    <tr>\n",
              "      <th>1</th>\n",
              "      <td>2015-12-29</td>\n",
              "      <td>363</td>\n",
              "      <td>18.8</td>\n",
              "      <td>12:38</td>\n",
              "      <td>10.4</td>\n",
              "      <td>4:32</td>\n",
              "      <td>14.2</td>\n",
              "      <td>100.0</td>\n",
              "      <td>64.7</td>\n",
              "      <td>81.2</td>\n",
              "      <td>1.0</td>\n",
              "      <td>292.7</td>\n",
              "      <td>8.5</td>\n",
              "      <td>0.0</td>\n",
              "      <td>1.07</td>\n",
              "    </tr>\n",
              "    <tr>\n",
              "      <th>2</th>\n",
              "      <td>2015-12-29</td>\n",
              "      <td>364</td>\n",
              "      <td>18.8</td>\n",
              "      <td>12:14</td>\n",
              "      <td>11.0</td>\n",
              "      <td>22:22</td>\n",
              "      <td>14.4</td>\n",
              "      <td>89.3</td>\n",
              "      <td>55.6</td>\n",
              "      <td>70.2</td>\n",
              "      <td>1.2</td>\n",
              "      <td>328.2</td>\n",
              "      <td>10.0</td>\n",
              "      <td>0.0</td>\n",
              "      <td>1.32</td>\n",
              "    </tr>\n",
              "    <tr>\n",
              "      <th>3</th>\n",
              "      <td>2015-12-28</td>\n",
              "      <td>362</td>\n",
              "      <td>18.9</td>\n",
              "      <td>10:00</td>\n",
              "      <td>11.6</td>\n",
              "      <td>23:48</td>\n",
              "      <td>15.8</td>\n",
              "      <td>89.0</td>\n",
              "      <td>47.4</td>\n",
              "      <td>66.1</td>\n",
              "      <td>1.2</td>\n",
              "      <td>280.8</td>\n",
              "      <td>9.3</td>\n",
              "      <td>0.0</td>\n",
              "      <td>1.38</td>\n",
              "    </tr>\n",
              "    <tr>\n",
              "      <th>4</th>\n",
              "      <td>2015-12-27</td>\n",
              "      <td>361</td>\n",
              "      <td>19.6</td>\n",
              "      <td>13:48</td>\n",
              "      <td>12.5</td>\n",
              "      <td>6:30</td>\n",
              "      <td>15.8</td>\n",
              "      <td>72.9</td>\n",
              "      <td>48.3</td>\n",
              "      <td>61.1</td>\n",
              "      <td>2.0</td>\n",
              "      <td>35.8</td>\n",
              "      <td>9.4</td>\n",
              "      <td>0.0</td>\n",
              "      <td>1.98</td>\n",
              "    </tr>\n",
              "  </tbody>\n",
              "</table>\n",
              "</div>"
            ],
            "text/plain": [
              "        FECHA  DIA  TMax  HTMax  TMin  ... VelViento  DirViento   Rad  Precip   ETo\n",
              "0  2015-12-30  365  19.2  12:02   8.6  ...       0.6      337.2   9.9     0.0  1.04\n",
              "1  2015-12-29  363  18.8  12:38  10.4  ...       1.0      292.7   8.5     0.0  1.07\n",
              "2  2015-12-29  364  18.8  12:14  11.0  ...       1.2      328.2  10.0     0.0  1.32\n",
              "3  2015-12-28  362  18.9  10:00  11.6  ...       1.2      280.8   9.3     0.0  1.38\n",
              "4  2015-12-27  361  19.6  13:48  12.5  ...       2.0       35.8   9.4     0.0  1.98\n",
              "\n",
              "[5 rows x 15 columns]"
            ]
          },
          "metadata": {},
          "execution_count": 4
        }
      ]
    },
    {
      "cell_type": "code",
      "metadata": {
        "colab": {
          "base_uri": "https://localhost:8080/"
        },
        "id": "Sccq8pNq9v2L",
        "outputId": "ac78f35f-dc71-44a6-d9c7-75b4dabc16cd"
      },
      "source": [
        "pip install pyspark"
      ],
      "execution_count": 3,
      "outputs": [
        {
          "output_type": "stream",
          "name": "stdout",
          "text": [
            "Collecting pyspark\n",
            "  Downloading pyspark-3.2.0.tar.gz (281.3 MB)\n",
            "\u001b[K     |████████████████████████████████| 281.3 MB 36 kB/s \n",
            "\u001b[?25hCollecting py4j==0.10.9.2\n",
            "  Downloading py4j-0.10.9.2-py2.py3-none-any.whl (198 kB)\n",
            "\u001b[K     |████████████████████████████████| 198 kB 65.8 MB/s \n",
            "\u001b[?25hBuilding wheels for collected packages: pyspark\n",
            "  Building wheel for pyspark (setup.py) ... \u001b[?25l\u001b[?25hdone\n",
            "  Created wheel for pyspark: filename=pyspark-3.2.0-py2.py3-none-any.whl size=281805912 sha256=53ae8d2dd872c16e3215d17cf2eb8b9619eb3421fbe1960e9fe56c07a635d26b\n",
            "  Stored in directory: /root/.cache/pip/wheels/0b/de/d2/9be5d59d7331c6c2a7c1b6d1a4f463ce107332b1ecd4e80718\n",
            "Successfully built pyspark\n",
            "Installing collected packages: py4j, pyspark\n",
            "Successfully installed py4j-0.10.9.2 pyspark-3.2.0\n"
          ]
        }
      ]
    },
    {
      "cell_type": "code",
      "metadata": {
        "colab": {
          "base_uri": "https://localhost:8080/",
          "height": 219
        },
        "id": "ytWFGyKT9dQx",
        "outputId": "3d200fad-6403-4456-97fb-81dc8c63c657"
      },
      "source": [
        "from pyspark.sql import SparkSession\n",
        "spark=SparkSession.builder.appName('Dataframe').getOrCreate()\n",
        "spark"
      ],
      "execution_count": 4,
      "outputs": [
        {
          "output_type": "execute_result",
          "data": {
            "text/html": [
              "\n",
              "            <div>\n",
              "                <p><b>SparkSession - in-memory</b></p>\n",
              "                \n",
              "        <div>\n",
              "            <p><b>SparkContext</b></p>\n",
              "\n",
              "            <p><a href=\"http://cea261d47e6c:4040\">Spark UI</a></p>\n",
              "\n",
              "            <dl>\n",
              "              <dt>Version</dt>\n",
              "                <dd><code>v3.2.0</code></dd>\n",
              "              <dt>Master</dt>\n",
              "                <dd><code>local[*]</code></dd>\n",
              "              <dt>AppName</dt>\n",
              "                <dd><code>Dataframe</code></dd>\n",
              "            </dl>\n",
              "        </div>\n",
              "        \n",
              "            </div>\n",
              "        "
            ],
            "text/plain": [
              "<pyspark.sql.session.SparkSession at 0x7fd73bfb1590>"
            ]
          },
          "metadata": {},
          "execution_count": 4
        }
      ]
    },
    {
      "cell_type": "code",
      "metadata": {
        "colab": {
          "base_uri": "https://localhost:8080/"
        },
        "id": "t5seau4j-WRC",
        "outputId": "93005d14-3a27-4508-8727-82e5d2d22562"
      },
      "source": [
        "## read the dataset\n",
        "df_cards=spark.read.option('header','true').option('delimiter','|').csv('cards.csv',inferSchema=True)\n",
        "df_cards.show(5)"
      ],
      "execution_count": 5,
      "outputs": [
        {
          "output_type": "stream",
          "name": "stdout",
          "text": [
            "+----------+-----------+------------+----------+--------------+-------+------+\n",
            "|CP_CLIENTE|CP_COMERCIO|      SECTOR|       DIA|FRANJA_HORARIA|IMPORTE|NUM_OP|\n",
            "+----------+-----------+------------+----------+--------------+-------+------+\n",
            "|      4007|       4006|ALIMENTACION|2015-09-05|         08-10| 297.05|    10|\n",
            "|      4007|       4006|ALIMENTACION|2015-04-20|         14-16| 494.23|    17|\n",
            "|      4007|       4006|ALIMENTACION|2015-06-04|         10-12|1694.15|    57|\n",
            "|      4002|       4009|ALIMENTACION|2015-12-05|         20-22|  79.71|     2|\n",
            "|      4002|       4007|ALIMENTACION|2015-03-07|         20-22| 181.28|     3|\n",
            "+----------+-----------+------------+----------+--------------+-------+------+\n",
            "only showing top 5 rows\n",
            "\n"
          ]
        }
      ]
    },
    {
      "cell_type": "code",
      "metadata": {
        "colab": {
          "base_uri": "https://localhost:8080/"
        },
        "id": "j55sl47h_dhK",
        "outputId": "9664c306-7454-40cf-a6b0-6418f41b0753"
      },
      "source": [
        "df_weather=spark.read.option('header','true').option('delimiter',';').csv('weather.csv',inferSchema=True)\n",
        "df_weather.show(5)"
      ],
      "execution_count": 6,
      "outputs": [
        {
          "output_type": "stream",
          "name": "stdout",
          "text": [
            "+----------+---+----+-----+----+-----+----+------+------+------+---------+---------+----+------+----+\n",
            "|     FECHA|DIA|TMax|HTMax|TMin|HTMin|TMed|HumMax|HumMin|HumMed|VelViento|DirViento| Rad|Precip| ETo|\n",
            "+----------+---+----+-----+----+-----+----+------+------+------+---------+---------+----+------+----+\n",
            "|2015-12-30|365|19.2|12:02| 8.6| 4:06|13.9|  98.8|  49.3|  71.4|      0.6|    337.2| 9.9|   0.0|1.04|\n",
            "|2015-12-29|363|18.8|12:38|10.4| 4:32|14.2| 100.0|  64.7|  81.2|      1.0|    292.7| 8.5|   0.0|1.07|\n",
            "|2015-12-29|364|18.8|12:14|11.0|22:22|14.4|  89.3|  55.6|  70.2|      1.2|    328.2|10.0|   0.0|1.32|\n",
            "|2015-12-28|362|18.9|10:00|11.6|23:48|15.8|  89.0|  47.4|  66.1|      1.2|    280.8| 9.3|   0.0|1.38|\n",
            "|2015-12-27|361|19.6|13:48|12.5| 6:30|15.8|  72.9|  48.3|  61.1|      2.0|     35.8| 9.4|   0.0|1.98|\n",
            "+----------+---+----+-----+----+-----+----+------+------+------+---------+---------+----+------+----+\n",
            "only showing top 5 rows\n",
            "\n"
          ]
        }
      ]
    },
    {
      "cell_type": "code",
      "metadata": {
        "colab": {
          "base_uri": "https://localhost:8080/",
          "height": 580
        },
        "id": "0Nvo2XYvBmVm",
        "outputId": "62f3a791-7bbd-48e2-8f15-aa793b6ffc2e"
      },
      "source": [
        "df_cards.printSchema()\n",
        "spark.conf.set('spark.sql.repl.eagerEval.enabled', True)\n",
        "df_cards.toPandas()"
      ],
      "execution_count": 7,
      "outputs": [
        {
          "output_type": "stream",
          "name": "stdout",
          "text": [
            "root\n",
            " |-- CP_CLIENTE: integer (nullable = true)\n",
            " |-- CP_COMERCIO: integer (nullable = true)\n",
            " |-- SECTOR: string (nullable = true)\n",
            " |-- DIA: string (nullable = true)\n",
            " |-- FRANJA_HORARIA: string (nullable = true)\n",
            " |-- IMPORTE: double (nullable = true)\n",
            " |-- NUM_OP: integer (nullable = true)\n",
            "\n"
          ]
        },
        {
          "output_type": "execute_result",
          "data": {
            "text/html": [
              "<div>\n",
              "<style scoped>\n",
              "    .dataframe tbody tr th:only-of-type {\n",
              "        vertical-align: middle;\n",
              "    }\n",
              "\n",
              "    .dataframe tbody tr th {\n",
              "        vertical-align: top;\n",
              "    }\n",
              "\n",
              "    .dataframe thead th {\n",
              "        text-align: right;\n",
              "    }\n",
              "</style>\n",
              "<table border=\"1\" class=\"dataframe\">\n",
              "  <thead>\n",
              "    <tr style=\"text-align: right;\">\n",
              "      <th></th>\n",
              "      <th>CP_CLIENTE</th>\n",
              "      <th>CP_COMERCIO</th>\n",
              "      <th>SECTOR</th>\n",
              "      <th>DIA</th>\n",
              "      <th>FRANJA_HORARIA</th>\n",
              "      <th>IMPORTE</th>\n",
              "      <th>NUM_OP</th>\n",
              "    </tr>\n",
              "  </thead>\n",
              "  <tbody>\n",
              "    <tr>\n",
              "      <th>0</th>\n",
              "      <td>4007</td>\n",
              "      <td>4006</td>\n",
              "      <td>ALIMENTACION</td>\n",
              "      <td>2015-09-05</td>\n",
              "      <td>08-10</td>\n",
              "      <td>297.05</td>\n",
              "      <td>10</td>\n",
              "    </tr>\n",
              "    <tr>\n",
              "      <th>1</th>\n",
              "      <td>4007</td>\n",
              "      <td>4006</td>\n",
              "      <td>ALIMENTACION</td>\n",
              "      <td>2015-04-20</td>\n",
              "      <td>14-16</td>\n",
              "      <td>494.23</td>\n",
              "      <td>17</td>\n",
              "    </tr>\n",
              "    <tr>\n",
              "      <th>2</th>\n",
              "      <td>4007</td>\n",
              "      <td>4006</td>\n",
              "      <td>ALIMENTACION</td>\n",
              "      <td>2015-06-04</td>\n",
              "      <td>10-12</td>\n",
              "      <td>1694.15</td>\n",
              "      <td>57</td>\n",
              "    </tr>\n",
              "    <tr>\n",
              "      <th>3</th>\n",
              "      <td>4002</td>\n",
              "      <td>4009</td>\n",
              "      <td>ALIMENTACION</td>\n",
              "      <td>2015-12-05</td>\n",
              "      <td>20-22</td>\n",
              "      <td>79.71</td>\n",
              "      <td>2</td>\n",
              "    </tr>\n",
              "    <tr>\n",
              "      <th>4</th>\n",
              "      <td>4002</td>\n",
              "      <td>4007</td>\n",
              "      <td>ALIMENTACION</td>\n",
              "      <td>2015-03-07</td>\n",
              "      <td>20-22</td>\n",
              "      <td>181.28</td>\n",
              "      <td>3</td>\n",
              "    </tr>\n",
              "    <tr>\n",
              "      <th>...</th>\n",
              "      <td>...</td>\n",
              "      <td>...</td>\n",
              "      <td>...</td>\n",
              "      <td>...</td>\n",
              "      <td>...</td>\n",
              "      <td>...</td>\n",
              "      <td>...</td>\n",
              "    </tr>\n",
              "    <tr>\n",
              "      <th>543126</th>\n",
              "      <td>4120</td>\n",
              "      <td>4001</td>\n",
              "      <td>OCIO Y TIEMPO LIBRE</td>\n",
              "      <td>2015-11-06</td>\n",
              "      <td>10-12</td>\n",
              "      <td>29.39</td>\n",
              "      <td>2</td>\n",
              "    </tr>\n",
              "    <tr>\n",
              "      <th>543127</th>\n",
              "      <td>4002</td>\n",
              "      <td>4009</td>\n",
              "      <td>OCIO Y TIEMPO LIBRE</td>\n",
              "      <td>2015-08-31</td>\n",
              "      <td>18-20</td>\n",
              "      <td>19.98</td>\n",
              "      <td>1</td>\n",
              "    </tr>\n",
              "    <tr>\n",
              "      <th>543128</th>\n",
              "      <td>4150</td>\n",
              "      <td>4001</td>\n",
              "      <td>OCIO Y TIEMPO LIBRE</td>\n",
              "      <td>2015-12-01</td>\n",
              "      <td>20-22</td>\n",
              "      <td>69.99</td>\n",
              "      <td>1</td>\n",
              "    </tr>\n",
              "    <tr>\n",
              "      <th>543129</th>\n",
              "      <td>4720</td>\n",
              "      <td>4001</td>\n",
              "      <td>OCIO Y TIEMPO LIBRE</td>\n",
              "      <td>2015-01-16</td>\n",
              "      <td>18-20</td>\n",
              "      <td>181.87</td>\n",
              "      <td>4</td>\n",
              "    </tr>\n",
              "    <tr>\n",
              "      <th>543130</th>\n",
              "      <td>4006</td>\n",
              "      <td>4009</td>\n",
              "      <td>OCIO Y TIEMPO LIBRE</td>\n",
              "      <td>2015-09-05</td>\n",
              "      <td>12-14</td>\n",
              "      <td>118.84</td>\n",
              "      <td>3</td>\n",
              "    </tr>\n",
              "  </tbody>\n",
              "</table>\n",
              "<p>543131 rows × 7 columns</p>\n",
              "</div>"
            ],
            "text/plain": [
              "        CP_CLIENTE  CP_COMERCIO  ...  IMPORTE NUM_OP\n",
              "0             4007         4006  ...   297.05     10\n",
              "1             4007         4006  ...   494.23     17\n",
              "2             4007         4006  ...  1694.15     57\n",
              "3             4002         4009  ...    79.71      2\n",
              "4             4002         4007  ...   181.28      3\n",
              "...            ...          ...  ...      ...    ...\n",
              "543126        4120         4001  ...    29.39      2\n",
              "543127        4002         4009  ...    19.98      1\n",
              "543128        4150         4001  ...    69.99      1\n",
              "543129        4720         4001  ...   181.87      4\n",
              "543130        4006         4009  ...   118.84      3\n",
              "\n",
              "[543131 rows x 7 columns]"
            ]
          },
          "metadata": {},
          "execution_count": 7
        }
      ]
    },
    {
      "cell_type": "code",
      "metadata": {
        "id": "HWpvLsm3mygX"
      },
      "source": [
        "df_cards.createOrReplaceTempView(\"TCARDS\")\n",
        "df_weather.createOrReplaceTempView(\"TWEATHER\")"
      ],
      "execution_count": 8,
      "outputs": []
    },
    {
      "cell_type": "markdown",
      "metadata": {
        "id": "87H7DpPkYPk6"
      },
      "source": [
        "**Propuestas de consultas:**\n",
        "* Días de sol con gastos\n",
        "* Media de gastos por sector\n",
        "* Meses de gastos\n",
        "* Horas de mayor gasto en verano\n",
        "* Compras en día de lluvia\n",
        "* Compras con temperaturas extremas"
      ]
    },
    {
      "cell_type": "markdown",
      "metadata": {
        "id": "qF__mwWeYlNm"
      },
      "source": [
        "**Días de sol con gastos**"
      ]
    },
    {
      "cell_type": "code",
      "metadata": {
        "id": "5kjvZqCZYnDU"
      },
      "source": [
        "dfgastosSun = spark.sql(\"\")\n",
        "dfgastosSun"
      ],
      "execution_count": null,
      "outputs": []
    },
    {
      "cell_type": "markdown",
      "metadata": {
        "id": "7FzhwNh1bCS8"
      },
      "source": [
        "**Media de gastos por sector**"
      ]
    },
    {
      "cell_type": "code",
      "metadata": {
        "id": "1Yy42bVbbJBD",
        "colab": {
          "base_uri": "https://localhost:8080/",
          "height": 185
        },
        "outputId": "17123c2b-968f-4210-94df-dc2a98247588"
      },
      "source": [
        "dfsectores = spark.sql(\"SELECT SECTOR, AVG(IMPORTE) FROM TCARDS GROUP BY SECTOR;\")\n",
        "dfsectores"
      ],
      "execution_count": 9,
      "outputs": [
        {
          "output_type": "execute_result",
          "data": {
            "text/html": [
              "<table border='1'>\n",
              "<tr><th>SECTOR</th><th>avg(IMPORTE)</th></tr>\n",
              "<tr><td>HOGAR</td><td>84.73714679422375</td></tr>\n",
              "<tr><td>AUTO</td><td>169.54961767800756</td></tr>\n",
              "<tr><td>ALIMENTACION</td><td>152.45591312318547</td></tr>\n",
              "<tr><td>MODA Y COMPLEMENTOS</td><td>132.51475219446198</td></tr>\n",
              "<tr><td>BELLEZA</td><td>68.69483103448503</td></tr>\n",
              "<tr><td>OCIO Y TIEMPO LIBRE</td><td>95.53525738460054</td></tr>\n",
              "</table>\n"
            ],
            "text/plain": [
              "+-------------------+------------------+\n",
              "|             SECTOR|      avg(IMPORTE)|\n",
              "+-------------------+------------------+\n",
              "|              HOGAR| 84.73714679422375|\n",
              "|               AUTO|169.54961767800756|\n",
              "|       ALIMENTACION|152.45591312318547|\n",
              "|MODA Y COMPLEMENTOS|132.51475219446198|\n",
              "|            BELLEZA| 68.69483103448503|\n",
              "|OCIO Y TIEMPO LIBRE| 95.53525738460054|\n",
              "+-------------------+------------------+"
            ]
          },
          "metadata": {},
          "execution_count": 9
        }
      ]
    },
    {
      "cell_type": "markdown",
      "metadata": {
        "id": "oCh94vZtbJO0"
      },
      "source": [
        "**Meses de gastos**"
      ]
    },
    {
      "cell_type": "code",
      "metadata": {
        "id": "ehIPdTnpbMZq"
      },
      "source": [
        "dfgastosMonth = spark.sql(\"\")\n",
        "dfgastosMonth"
      ],
      "execution_count": null,
      "outputs": []
    },
    {
      "cell_type": "markdown",
      "metadata": {
        "id": "u2W93_WYbMtV"
      },
      "source": [
        "**Horas de mayor gasto en verano**"
      ]
    },
    {
      "cell_type": "code",
      "metadata": {
        "id": "aK6Un9pqbRVr"
      },
      "source": [
        "dfgastosSummer = spark.sql(\"\")\n",
        "dfgastosSummer"
      ],
      "execution_count": null,
      "outputs": []
    },
    {
      "cell_type": "markdown",
      "metadata": {
        "id": "xhU7U1a8bRvB"
      },
      "source": [
        "**Compras en día de lluvia**"
      ]
    },
    {
      "cell_type": "code",
      "metadata": {
        "id": "TONCYomXbWdd"
      },
      "source": [
        "dfgastosRain = spark.sql(\"\")\n",
        "dfgastosRain"
      ],
      "execution_count": null,
      "outputs": []
    },
    {
      "cell_type": "markdown",
      "metadata": {
        "id": "S7D-LHvxbWxp"
      },
      "source": [
        "**Compras con temperaturas extremas**"
      ]
    },
    {
      "cell_type": "code",
      "metadata": {
        "id": "BMu41go2bbQ0"
      },
      "source": [
        "dfgastosXtrem = spark.sql(\"\")\n",
        "dfgastosXtrem"
      ],
      "execution_count": null,
      "outputs": []
    },
    {
      "cell_type": "markdown",
      "metadata": {
        "id": "EoIlV79Sdgkc"
      },
      "source": [
        "**LAZAMIENTO DE API**"
      ]
    },
    {
      "cell_type": "code",
      "metadata": {
        "colab": {
          "base_uri": "https://localhost:8080/"
        },
        "id": "TopGOpAKiivt",
        "outputId": "4ab480e1-9c46-41c6-ef08-45d400f86378"
      },
      "source": [
        "pip install flask-ngrok"
      ],
      "execution_count": 10,
      "outputs": [
        {
          "output_type": "stream",
          "name": "stdout",
          "text": [
            "Collecting flask-ngrok\n",
            "  Downloading flask_ngrok-0.0.25-py3-none-any.whl (3.1 kB)\n",
            "Requirement already satisfied: Flask>=0.8 in /usr/local/lib/python3.7/dist-packages (from flask-ngrok) (1.1.4)\n",
            "Requirement already satisfied: requests in /usr/local/lib/python3.7/dist-packages (from flask-ngrok) (2.23.0)\n",
            "Requirement already satisfied: Jinja2<3.0,>=2.10.1 in /usr/local/lib/python3.7/dist-packages (from Flask>=0.8->flask-ngrok) (2.11.3)\n",
            "Requirement already satisfied: Werkzeug<2.0,>=0.15 in /usr/local/lib/python3.7/dist-packages (from Flask>=0.8->flask-ngrok) (1.0.1)\n",
            "Requirement already satisfied: click<8.0,>=5.1 in /usr/local/lib/python3.7/dist-packages (from Flask>=0.8->flask-ngrok) (7.1.2)\n",
            "Requirement already satisfied: itsdangerous<2.0,>=0.24 in /usr/local/lib/python3.7/dist-packages (from Flask>=0.8->flask-ngrok) (1.1.0)\n",
            "Requirement already satisfied: MarkupSafe>=0.23 in /usr/local/lib/python3.7/dist-packages (from Jinja2<3.0,>=2.10.1->Flask>=0.8->flask-ngrok) (2.0.1)\n",
            "Requirement already satisfied: certifi>=2017.4.17 in /usr/local/lib/python3.7/dist-packages (from requests->flask-ngrok) (2021.10.8)\n",
            "Requirement already satisfied: idna<3,>=2.5 in /usr/local/lib/python3.7/dist-packages (from requests->flask-ngrok) (2.10)\n",
            "Requirement already satisfied: chardet<4,>=3.0.2 in /usr/local/lib/python3.7/dist-packages (from requests->flask-ngrok) (3.0.4)\n",
            "Requirement already satisfied: urllib3!=1.25.0,!=1.25.1,<1.26,>=1.21.1 in /usr/local/lib/python3.7/dist-packages (from requests->flask-ngrok) (1.24.3)\n",
            "Installing collected packages: flask-ngrok\n",
            "Successfully installed flask-ngrok-0.0.25\n"
          ]
        }
      ]
    },
    {
      "cell_type": "markdown",
      "metadata": {
        "id": "uAhEGgaInFJd"
      },
      "source": [
        "Esto lanza 3 direcciones obviamente no pilleis la local que nunca la va a pillar"
      ]
    },
    {
      "cell_type": "code",
      "metadata": {
        "colab": {
          "base_uri": "https://localhost:8080/"
        },
        "id": "yFGdAhcJdmnp",
        "outputId": "3126a156-2787-4bcf-c698-d2389617c425"
      },
      "source": [
        "from flask import Flask \n",
        "from flask_ngrok import run_with_ngrok \n",
        "from flask import Flask\n",
        "from flask import jsonify\n",
        "app = Flask(__name__) \n",
        "run_with_ngrok(app)    \n",
        "\n",
        "\n",
        "@app.route(\"/\") \n",
        "def home(): \n",
        "    return \"<h1>Pruebas de llamada de la API</h1>\"\n",
        "\n",
        "@app.route('/api/v1/GastoSector', methods=['GET'])\n",
        "def get_users():\n",
        "    response = dfsectores\n",
        "    return jsonify(response)\n",
        "\n",
        "print(\"Lanzando servicio\")\n",
        "app.run()\n",
        "print(\"Se ha acabado la ejecucion\")"
      ],
      "execution_count": 14,
      "outputs": [
        {
          "output_type": "stream",
          "name": "stdout",
          "text": [
            "Se ha acabado la ejecucion\n"
          ]
        }
      ]
    }
  ]
}