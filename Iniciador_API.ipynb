{
  "nbformat": 4,
  "nbformat_minor": 0,
  "metadata": {
    "colab": {
      "name": "Iniciador_API.ipynb",
      "provenance": []
    },
    "kernelspec": {
      "display_name": "Python 3",
      "name": "python3"
    },
    "language_info": {
      "name": "python"
    }
  },
  "cells": [
    {
      "cell_type": "code",
      "metadata": {
        "colab": {
          "base_uri": "https://localhost:8080/"
        },
        "id": "uxA7eja9O2KF",
        "outputId": "7303d3be-7b15-4083-d58a-ecfd71e858a8"
      },
      "source": [
        "pip install flask-ngrok"
      ],
      "execution_count": null,
      "outputs": [
        {
          "output_type": "stream",
          "name": "stdout",
          "text": [
            "Requirement already satisfied: flask-ngrok in /usr/local/lib/python3.7/dist-packages (0.0.25)\n",
            "Requirement already satisfied: requests in /usr/local/lib/python3.7/dist-packages (from flask-ngrok) (2.23.0)\n",
            "Requirement already satisfied: Flask>=0.8 in /usr/local/lib/python3.7/dist-packages (from flask-ngrok) (1.1.4)\n",
            "Requirement already satisfied: Werkzeug<2.0,>=0.15 in /usr/local/lib/python3.7/dist-packages (from Flask>=0.8->flask-ngrok) (1.0.1)\n",
            "Requirement already satisfied: click<8.0,>=5.1 in /usr/local/lib/python3.7/dist-packages (from Flask>=0.8->flask-ngrok) (7.1.2)\n",
            "Requirement already satisfied: Jinja2<3.0,>=2.10.1 in /usr/local/lib/python3.7/dist-packages (from Flask>=0.8->flask-ngrok) (2.11.3)\n",
            "Requirement already satisfied: itsdangerous<2.0,>=0.24 in /usr/local/lib/python3.7/dist-packages (from Flask>=0.8->flask-ngrok) (1.1.0)\n",
            "Requirement already satisfied: MarkupSafe>=0.23 in /usr/local/lib/python3.7/dist-packages (from Jinja2<3.0,>=2.10.1->Flask>=0.8->flask-ngrok) (2.0.1)\n",
            "Requirement already satisfied: idna<3,>=2.5 in /usr/local/lib/python3.7/dist-packages (from requests->flask-ngrok) (2.10)\n",
            "Requirement already satisfied: chardet<4,>=3.0.2 in /usr/local/lib/python3.7/dist-packages (from requests->flask-ngrok) (3.0.4)\n",
            "Requirement already satisfied: urllib3!=1.25.0,!=1.25.1,<1.26,>=1.21.1 in /usr/local/lib/python3.7/dist-packages (from requests->flask-ngrok) (1.24.3)\n",
            "Requirement already satisfied: certifi>=2017.4.17 in /usr/local/lib/python3.7/dist-packages (from requests->flask-ngrok) (2021.10.8)\n"
          ]
        }
      ]
    },
    {
      "cell_type": "code",
      "metadata": {
        "colab": {
          "base_uri": "https://localhost:8080/"
        },
        "id": "m72uoZl4uF3q",
        "outputId": "b34ffd7a-8399-4573-8820-87675a3235af"
      },
      "source": [
        "from google.colab import drive\n",
        "drive.mount('/content/drive')"
      ],
      "execution_count": null,
      "outputs": [
        {
          "output_type": "stream",
          "name": "stdout",
          "text": [
            "Drive already mounted at /content/drive; to attempt to forcibly remount, call drive.mount(\"/content/drive\", force_remount=True).\n"
          ]
        }
      ]
    },
    {
      "cell_type": "code",
      "metadata": {
        "id": "bk7Uv_qXO9Gl"
      },
      "source": [
        "import json\n",
        "\n",
        "with open('/content/drive/MyDrive/DatosCollabBigData/meses.json') as file:\n",
        "    json_meses = json.load(file)\n",
        "with open('/content/drive/MyDrive/DatosCollabBigData/sectores.json') as file:\n",
        "    json_sector = json.load(file)\n",
        "with open('/content/drive/MyDrive/DatosCollabBigData/summer.json') as file:\n",
        "    json_summer = json.load(file)\n",
        "with open('/content/drive/MyDrive/DatosCollabBigData/taltas.json') as file:\n",
        "    json_taltas = json.load(file)\n",
        "with open('/content/drive/MyDrive/DatosCollabBigData/winter.json') as file:\n",
        "    json_winter = json.load(file)\n"
      ],
      "execution_count": null,
      "outputs": []
    },
    {
      "cell_type": "code",
      "metadata": {
        "colab": {
          "base_uri": "https://localhost:8080/"
        },
        "id": "ofV6oTVhO0ur",
        "outputId": "9011a485-d3c4-438e-839c-70783aa78250"
      },
      "source": [
        "from flask import Flask \n",
        "from flask_ngrok import run_with_ngrok \n",
        "from flask import Flask\n",
        "from flask import jsonify\n",
        "app = Flask(__name__) \n",
        "run_with_ngrok(app)    \n",
        "\n",
        "\n",
        "\n",
        "@app.route(\"/\") \n",
        "def home(): \n",
        "    return \"<h1>GFG is great platform to learn</h1>\"\n",
        "\n",
        "@app.route('/api/v1/meses', methods=['GET'])\n",
        "def get_mesess():\n",
        "    return jsonify(json_meses)\n",
        "\n",
        "@app.route('/api/v1/sectores', methods=['GET'])\n",
        "def get_sectores():\n",
        "    return jsonify(json_sector)\n",
        "\n",
        "@app.route('/api/v1/summer', methods=['GET'])\n",
        "def get_summer():\n",
        "    return jsonify(json_summer)\n",
        "\n",
        "@app.route('/api/v1/taltas', methods=['GET'])\n",
        "def get_taltas():\n",
        "    return jsonify(json_taltas)\n",
        "\n",
        "@app.route('/api/v1/winter', methods=['GET'])\n",
        "def get_winter():\n",
        "    return jsonify(json_winter)\n",
        "\n",
        "print(\"YO YO YO YO YOYOYO\")\n",
        "app.run()\n",
        "print(\"Se ha acabado la ejecucion\")"
      ],
      "execution_count": null,
      "outputs": [
        {
          "output_type": "stream",
          "name": "stdout",
          "text": [
            "YO YO YO YO YOYOYO\n",
            " * Serving Flask app \"__main__\" (lazy loading)\n",
            " * Environment: production\n",
            "\u001b[31m   WARNING: This is a development server. Do not use it in a production deployment.\u001b[0m\n",
            "\u001b[2m   Use a production WSGI server instead.\u001b[0m\n",
            " * Debug mode: off\n"
          ]
        },
        {
          "output_type": "stream",
          "name": "stderr",
          "text": [
            " * Running on http://127.0.0.1:5000/ (Press CTRL+C to quit)\n"
          ]
        },
        {
          "output_type": "stream",
          "name": "stdout",
          "text": [
            " * Running on http://646b-35-229-110-173.ngrok.io\n",
            " * Traffic stats available on http://127.0.0.1:4040\n"
          ]
        },
        {
          "output_type": "stream",
          "name": "stderr",
          "text": [
            "127.0.0.1 - - [28/Nov/2021 21:06:14] \"\u001b[37mGET / HTTP/1.1\u001b[0m\" 200 -\n",
            "127.0.0.1 - - [28/Nov/2021 21:06:15] \"\u001b[33mGET /favicon.ico HTTP/1.1\u001b[0m\" 404 -\n",
            "127.0.0.1 - - [28/Nov/2021 21:06:15] \"\u001b[37mGET / HTTP/1.1\u001b[0m\" 200 -\n",
            "127.0.0.1 - - [28/Nov/2021 21:23:15] \"\u001b[37mGET /api/v1/sectores HTTP/1.1\u001b[0m\" 200 -\n",
            "127.0.0.1 - - [28/Nov/2021 21:23:15] \"\u001b[37mGET /api/v1/meses HTTP/1.1\u001b[0m\" 200 -\n",
            "127.0.0.1 - - [28/Nov/2021 21:23:16] \"\u001b[37mGET /api/v1/summer HTTP/1.1\u001b[0m\" 200 -\n",
            "127.0.0.1 - - [28/Nov/2021 21:23:16] \"\u001b[37mGET /api/v1/winter HTTP/1.1\u001b[0m\" 200 -\n",
            "127.0.0.1 - - [28/Nov/2021 21:23:16] \"\u001b[37mGET /api/v1/taltas HTTP/1.1\u001b[0m\" 200 -\n"
          ]
        }
      ]
    }
  ]
}